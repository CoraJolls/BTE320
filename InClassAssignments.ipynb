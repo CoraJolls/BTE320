{
  "nbformat": 4,
  "nbformat_minor": 0,
  "metadata": {
    "colab": {
      "provenance": [],
      "authorship_tag": "ABX9TyM5x3s/ylCOcFLBjN9GlMh4",
      "include_colab_link": true
    },
    "kernelspec": {
      "name": "python3",
      "display_name": "Python 3"
    },
    "language_info": {
      "name": "python"
    }
  },
  "cells": [
    {
      "cell_type": "markdown",
      "metadata": {
        "id": "view-in-github",
        "colab_type": "text"
      },
      "source": [
        "<a href=\"https://colab.research.google.com/github/CoraJolls/BTE320/blob/main/InClassAssignments.ipynb\" target=\"_parent\"><img src=\"https://colab.research.google.com/assets/colab-badge.svg\" alt=\"Open In Colab\"/></a>"
      ]
    },
    {
      "cell_type": "code",
      "source": [
        "# Assigment 1 pt 1\n",
        "sales= float(input('Enter Sales ($):'))\n",
        "print(f\"Sales : ${sales}\")\n",
        "\n",
        "cog = 0.4\n",
        "cog_sold = sales * cog\n",
        "print(f\"Cost of Goods Sold : ${cog_sold}\")\n",
        "\n",
        "grossProfit = sales - (cog * sales)\n",
        "print(f\"Gross profit : ${grossProfit}\")"
      ],
      "metadata": {
        "id": "WT2qj1ZMV6sM",
        "colab": {
          "base_uri": "https://localhost:8080/"
        },
        "outputId": "3e920ce2-acad-499f-9e50-bdb074f5198b"
      },
      "execution_count": null,
      "outputs": [
        {
          "output_type": "stream",
          "name": "stdout",
          "text": [
            "Enter Sales ($):12000\n",
            "Sales : $12000.0\n",
            "Cost of Goods Sold : $4800.0\n",
            "Gross profit : $7200.0\n"
          ]
        }
      ]
    },
    {
      "cell_type": "code",
      "execution_count": null,
      "metadata": {
        "id": "DLRJ0Q7_VAN0",
        "colab": {
          "base_uri": "https://localhost:8080/"
        },
        "outputId": "5ae4ed22-d255-46bd-966b-fbb80cd255cf"
      },
      "outputs": [
        {
          "output_type": "stream",
          "name": "stdout",
          "text": [
            "Enter Sales ($):12000\n",
            "Enter Tax Rate (%)30\n",
            "Sales : $12000.0\n",
            "Tax Rate : 30.0\n",
            "Cost of Goods Sold : $4800.0\n",
            "Gross profit : $7200.0\n",
            " Taxes : 2160.0\n",
            "Net Income : 5040.0\n"
          ]
        }
      ],
      "source": [
        "# Assigment 1 pt 2\n",
        "\n",
        "sales= float(input('Enter Sales ($):'))\n",
        "\n",
        "\n",
        "TaxRate = float(input('Enter Tax Rate (%)'))\n",
        "\n",
        "print(f\"Sales : ${sales}\")\n",
        "print(f\"Tax Rate : {TaxRate}\")\n",
        "\n",
        "# Cost of Goods Sold\n",
        "cog = 0.4\n",
        "cog_sold = sales * cog\n",
        "print(f\"Cost of Goods Sold : ${cog_sold}\")\n",
        "\n",
        "# Gross Profit\n",
        "grossProfit = sales - (cog * sales)\n",
        "print(f\"Gross profit : ${grossProfit}\")\n",
        "\n",
        "# Taxes\n",
        "\n",
        "Taxes = (TaxRate / 100) * grossProfit\n",
        "print(f\" Taxes : {Taxes}\")\n",
        "\n",
        "# Net Income\n",
        "\n",
        "NetIncome = (grossProfit - Taxes)\n",
        "print(f\"Net Income : {NetIncome}\")"
      ]
    },
    {
      "cell_type": "code",
      "source": [
        "# Assignment 2\n",
        "\n",
        "demand = input(\"Enter demand cost (units/year)\")\n",
        "demand = int(demand)\n",
        "\n",
        "reorder = input(\"Enter reorder cost ($/unit)\")\n",
        "reorder =float(reorder)\n",
        "\n",
        "holding = input(\"Enter holding cost ($/unit/year)\")\n",
        "holding = float(holding)\n",
        "\n",
        "# process : calulcuate eoq\n",
        "eoq= (2 * demand * reorder / holding) ** 0.5\n",
        "\n",
        "# Output Print\n",
        "print(f\"EOQ : {eoq} units\")"
      ],
      "metadata": {
        "colab": {
          "base_uri": "https://localhost:8080/"
        },
        "id": "DctEF9vmqsgp",
        "outputId": "42c6416d-e816-4c05-cee4-f0caa43941e4"
      },
      "execution_count": null,
      "outputs": [
        {
          "output_type": "stream",
          "name": "stdout",
          "text": [
            "Enter demand cost (units/year)100\n",
            "Enter reorder cost ($/unit)1.5\n",
            "Enter holding cost ($/unit/year)3\n",
            "EOQ : 10.0 units\n"
          ]
        }
      ]
    },
    {
      "cell_type": "code",
      "source": [
        "# Assignment 3\n",
        "\n",
        "Number1 = float(input(\"Enter the first number\"))\n",
        "Number2 = float(input(\"Eneter the second number\"))\n",
        "Operator = input(\"Enter an operator (+, -, *, /,//,**,%)\")\n",
        "\n",
        "if Operator == \"+\" :\n",
        "  result = Number1 + Number2\n",
        "elif Operator == \"-\":\n",
        "  result = Number1 - Number2\n",
        "elif Oeprator == \"*\":\n",
        "  result = Number1 * Number2\n",
        "elif Operator == \"/\":\n",
        "  result = Number1 / Number2\n",
        "elif Operator == \"//\":\n",
        "  result = Number1 // Number2\n",
        "elif Operator == \"**\":\n",
        "  result = Number1 ** Number2\n",
        "elif Operator == \"%\":\n",
        "  result = Number1 % Number2\n",
        "else:\n",
        "  print ('Invalid Operator')\n",
        "\n",
        "\n",
        "print(f\"Result:\", result)\n",
        "\n",
        "\n",
        "\n",
        "\n",
        "\n",
        "\n"
      ],
      "metadata": {
        "colab": {
          "base_uri": "https://localhost:8080/"
        },
        "id": "GgEhLd6Ex5A3",
        "outputId": "bcd66270-1883-4291-c1b0-a6e5e094acd7"
      },
      "execution_count": 8,
      "outputs": [
        {
          "output_type": "stream",
          "name": "stdout",
          "text": [
            "Enter the first number2\n",
            "Eneter the second number3\n",
            "Enter an operator (+, -, *, /,//,**,%)+\n",
            "Result: 5.0\n"
          ]
        }
      ]
    }
  ]
}