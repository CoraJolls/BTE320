{
  "nbformat": 4,
  "nbformat_minor": 0,
  "metadata": {
    "colab": {
      "provenance": [],
      "authorship_tag": "ABX9TyOpAcRrPDS4/+7bD9CDQTCF",
      "include_colab_link": true
    },
    "kernelspec": {
      "name": "python3",
      "display_name": "Python 3"
    },
    "language_info": {
      "name": "python"
    }
  },
  "cells": [
    {
      "cell_type": "markdown",
      "metadata": {
        "id": "view-in-github",
        "colab_type": "text"
      },
      "source": [
        "<a href=\"https://colab.research.google.com/github/CoraJolls/BTE320/blob/main/InClassAssignments.ipynb\" target=\"_parent\"><img src=\"https://colab.research.google.com/assets/colab-badge.svg\" alt=\"Open In Colab\"/></a>"
      ]
    },
    {
      "cell_type": "code",
      "source": [
        "# Assigment 1 pt 1\n",
        "sales= float(input('Enter Sales ($):'))\n",
        "print(f\"Sales : ${sales}\")\n",
        "\n",
        "cog = 0.4\n",
        "cog_sold = sales * cog\n",
        "print(f\"Cost of Goods Sold : ${cog_sold}\")\n",
        "\n",
        "grossProfit = sales - (cog * sales)\n",
        "print(f\"Gross profit : ${grossProfit}\")"
      ],
      "metadata": {
        "id": "WT2qj1ZMV6sM",
        "colab": {
          "base_uri": "https://localhost:8080/"
        },
        "outputId": "3e920ce2-acad-499f-9e50-bdb074f5198b"
      },
      "execution_count": null,
      "outputs": [
        {
          "output_type": "stream",
          "name": "stdout",
          "text": [
            "Enter Sales ($):12000\n",
            "Sales : $12000.0\n",
            "Cost of Goods Sold : $4800.0\n",
            "Gross profit : $7200.0\n"
          ]
        }
      ]
    },
    {
      "cell_type": "code",
      "execution_count": null,
      "metadata": {
        "id": "DLRJ0Q7_VAN0",
        "colab": {
          "base_uri": "https://localhost:8080/"
        },
        "outputId": "5ae4ed22-d255-46bd-966b-fbb80cd255cf"
      },
      "outputs": [
        {
          "output_type": "stream",
          "name": "stdout",
          "text": [
            "Enter Sales ($):12000\n",
            "Enter Tax Rate (%)30\n",
            "Sales : $12000.0\n",
            "Tax Rate : 30.0\n",
            "Cost of Goods Sold : $4800.0\n",
            "Gross profit : $7200.0\n",
            " Taxes : 2160.0\n",
            "Net Income : 5040.0\n"
          ]
        }
      ],
      "source": [
        "# Assigment 1 pt 2\n",
        "\n",
        "sales= float(input('Enter Sales ($):'))\n",
        "\n",
        "\n",
        "TaxRate = float(input('Enter Tax Rate (%)'))\n",
        "\n",
        "print(f\"Sales : ${sales}\")\n",
        "print(f\"Tax Rate : {TaxRate}\")\n",
        "\n",
        "# Cost of Goods Sold\n",
        "cog = 0.4\n",
        "cog_sold = sales * cog\n",
        "print(f\"Cost of Goods Sold : ${cog_sold}\")\n",
        "\n",
        "# Gross Profit\n",
        "grossProfit = sales - (cog * sales)\n",
        "print(f\"Gross profit : ${grossProfit}\")\n",
        "\n",
        "# Taxes\n",
        "\n",
        "Taxes = (TaxRate / 100) * grossProfit\n",
        "print(f\" Taxes : {Taxes}\")\n",
        "\n",
        "# Net Income\n",
        "\n",
        "NetIncome = (grossProfit - Taxes)\n",
        "print(f\"Net Income : {NetIncome}\")"
      ]
    },
    {
      "cell_type": "code",
      "source": [
        "# Assignment 2\n",
        "\n",
        "demand = input(\"Enter demand cost (units/year)\")\n",
        "demand = int(demand)\n",
        "\n",
        "reorder = input(\"Enter reorder cost ($/unit)\")\n",
        "reorder =float(reorder)\n",
        "\n",
        "holding = input(\"Enter holding cost ($/unit/year)\")\n",
        "holding = float(holding)\n",
        "\n",
        "# process : calulcuate eoq\n",
        "eoq= (2 * demand * reorder / holding) ** 0.5\n",
        "\n",
        "# Output Print\n",
        "print(f\"EOQ : {eoq} units\")"
      ],
      "metadata": {
        "colab": {
          "base_uri": "https://localhost:8080/"
        },
        "id": "DctEF9vmqsgp",
        "outputId": "42c6416d-e816-4c05-cee4-f0caa43941e4"
      },
      "execution_count": null,
      "outputs": [
        {
          "output_type": "stream",
          "name": "stdout",
          "text": [
            "Enter demand cost (units/year)100\n",
            "Enter reorder cost ($/unit)1.5\n",
            "Enter holding cost ($/unit/year)3\n",
            "EOQ : 10.0 units\n"
          ]
        }
      ]
    },
    {
      "cell_type": "code",
      "source": [
        "# Assignment 3\n",
        "\n",
        "Number1 = float(input(\"Enter the first number\"))\n",
        "Number2 = float(input(\"Eneter the second number\"))\n",
        "Operator = input(\"Enter an operator (+, -, *, /,//,**,%)\")\n",
        "\n",
        "if Operator == \"+\" :\n",
        "  result = Number1 + Number2\n",
        "elif Operator == \"-\":\n",
        "  result = Number1 - Number2\n",
        "elif Oeprator == \"*\":\n",
        "  result = Number1 * Number2\n",
        "elif Operator == \"/\":\n",
        "  result = Number1 / Number2\n",
        "elif Operator == \"//\":\n",
        "  result = Number1 // Number2\n",
        "elif Operator == \"**\":\n",
        "  result = Number1 ** Number2\n",
        "elif Operator == \"%\":\n",
        "  result = Number1 % Number2\n",
        "else:\n",
        "  print ('Invalid Operator')\n",
        "\n",
        "\n",
        "print(f\"Result:\", result)\n",
        "\n",
        "\n",
        "\n",
        "\n",
        "\n",
        "\n"
      ],
      "metadata": {
        "colab": {
          "base_uri": "https://localhost:8080/"
        },
        "id": "GgEhLd6Ex5A3",
        "outputId": "bcd66270-1883-4291-c1b0-a6e5e094acd7"
      },
      "execution_count": null,
      "outputs": [
        {
          "output_type": "stream",
          "name": "stdout",
          "text": [
            "Enter the first number2\n",
            "Eneter the second number3\n",
            "Enter an operator (+, -, *, /,//,**,%)+\n",
            "Result: 5.0\n"
          ]
        }
      ]
    },
    {
      "cell_type": "code",
      "source": [
        "# Assignment 4\n",
        "\n",
        "base = 5.0\n",
        "per_hour = 2.5\n",
        "min_fee = 10.0\n",
        "max_fee = 20.0\n",
        "\n",
        "hours= float(input(\"Enter Hours Worked:\"))\n",
        "\n",
        "def fee_for(hours):\n",
        "  fee = base + (per_hour * hours)\n",
        "  if fee < min_fee:\n",
        "    fee = min_fee\n",
        "  if fee > max_fee:\n",
        "      fee = max_fee\n",
        "      return fee\n",
        "\n",
        "print (h,f\"fee_for(hours):\")\n"
      ],
      "metadata": {
        "colab": {
          "base_uri": "https://localhost:8080/"
        },
        "id": "6hq_O1G4bxD4",
        "outputId": "fddae24e-805b-4b41-bb30-f2a692b62f96"
      },
      "execution_count": null,
      "outputs": [
        {
          "output_type": "stream",
          "name": "stdout",
          "text": [
            "Enter Hours Worked:5\n",
            "8 fee_for(hours):\n"
          ]
        }
      ]
    },
    {
      "cell_type": "code",
      "source": [
        "# Assignment 4\n",
        "\n",
        "print(\"# of hours/tFee ($)\")\n",
        "print (\"--------\")\n",
        "\n",
        "for hours in range(1,9):\n",
        "  fee = 5 + hours * 2.5\n",
        "  if fee < 10.0:\n",
        "    fee = 10.0\n",
        "    print(f\"{hours}\\t\\t{fee}\")\n",
        "  elif fee > 20.0:\n",
        "    fee = 20.0\n",
        "    print(f\"{hours}\\t\\t{fee}\")\n",
        "  else:\n",
        "     print(f\"{hours}\\t\\t{fee}\")\n",
        "\n"
      ],
      "metadata": {
        "colab": {
          "base_uri": "https://localhost:8080/"
        },
        "id": "-kSqh80UetXv",
        "outputId": "03f6594b-742b-42df-ddde-70e2d5045896"
      },
      "execution_count": null,
      "outputs": [
        {
          "output_type": "stream",
          "name": "stdout",
          "text": [
            "# of hours/tFee ($)\n",
            "--------\n",
            "1\t\t10.0\n",
            "2\t\t10.0\n",
            "3\t\t12.5\n",
            "4\t\t15.0\n",
            "5\t\t17.5\n",
            "6\t\t20.0\n",
            "7\t\t20.0\n",
            "8\t\t20.0\n"
          ]
        }
      ]
    },
    {
      "cell_type": "code",
      "source": [
        "# Assignment 5\n",
        "\n",
        "print(\"AD$/Profit\")\n",
        "print (\"--------\")\n",
        "\n",
        "for ad in range (0,201,25):\n",
        "  revenue = 10 * (20 + 2 * ad ** 0.5) - 200 - ad\n",
        "  print(ad, round(revenue))\n",
        "\n",
        "\n",
        "\n"
      ],
      "metadata": {
        "colab": {
          "base_uri": "https://localhost:8080/"
        },
        "id": "GO5mmaV-tXKL",
        "outputId": "5f4c79e6-5a1d-4508-9222-b651672335f7"
      },
      "execution_count": null,
      "outputs": [
        {
          "output_type": "stream",
          "name": "stdout",
          "text": [
            "AD$/Profit\n",
            "--------\n",
            "0 0\n",
            "25 75\n",
            "50 91\n",
            "75 98\n",
            "100 100\n",
            "125 99\n",
            "150 95\n",
            "175 90\n",
            "200 83\n"
          ]
        }
      ]
    },
    {
      "cell_type": "code",
      "source": [
        "# Assignment 6\n",
        "\n",
        "number = []\n",
        "num = int(input('Give a number:'))\n",
        "\n",
        "while num != 0:\n",
        "  number.append(num)\n",
        "  num = int(input('Give another number:'))\n",
        "\n",
        "number.sort(reverse=True)\n",
        "print(number)"
      ],
      "metadata": {
        "colab": {
          "base_uri": "https://localhost:8080/"
        },
        "id": "afB9Ys3b1jXs",
        "outputId": "1a0a269b-e9e0-418f-edf8-1f51f9cddd86"
      },
      "execution_count": null,
      "outputs": [
        {
          "output_type": "stream",
          "name": "stdout",
          "text": [
            "Give a number:6\n",
            "Give another number:5\n",
            "Give another number:4\n",
            "Give another number:0\n",
            "[6, 5, 4]\n"
          ]
        }
      ]
    },
    {
      "cell_type": "code",
      "source": [
        "# Assignment 7\n",
        "\n",
        "import random\n",
        "\n",
        "CHOICES = (\"rock\", \"paper\", \"scissors\")\n",
        "print(\"Welcome to Rock-Paper-Scissors!\")\n",
        "\n",
        "#ask if the user wants to play\n",
        "play = input(\"Do you want to play? (yes/no):\"). strip().lower()\n",
        "\n",
        "wins = losses = ties = 0\n",
        "\n",
        "while play in (\"y\", \"yes\"):\n",
        "  # get a valid user choice\n",
        "  player = input(\"Choose rock, paper, or scissors:\"). strip().lower()\n",
        "  if player not in CHOICES:\n",
        "    print(\"Invalid choice. Try again.\")\n",
        "    player = input(\"Choose rock, paper, or scissors:\"). strip().lower()\n",
        "\n",
        "  # computer picks randomly\n",
        "  computer = random.choice(CHOICES)\n",
        "  print (f\"Computer chose: {computer}\")\n",
        "\n",
        "  #decide the round\n",
        "  if player == computer:\n",
        "    print (\"It's a tie!\")\n",
        "    ties += 1\n",
        "  elif(\n",
        "      (player == \"rock\" and computer == \"scissors\") or\n",
        "      (player == \"paper\" and computer == \"rock\") or\n",
        "      (player == \"scissors\" and computer == \"paper\")\n",
        "  ):\n",
        "    print (\"You win this round!\")\n",
        "    wins += 1\n",
        "\n",
        "  else:\n",
        "    print(\"Computer wins this round!\")\n",
        "    losses += 1\n",
        "\n",
        "    # ask to keep playing\n",
        "    play = input (\"Plau again? (yes/no:)\").strip().lower()\n",
        "\n",
        "print(f\"Thanks for playing! Final record - Wins: {wins}, Losses: {losses}, Ties: {ties}\")"
      ],
      "metadata": {
        "colab": {
          "base_uri": "https://localhost:8080/"
        },
        "id": "F0VloUlwnoCL",
        "outputId": "79cfb6c5-bd1a-4214-a192-9b7bc2357288"
      },
      "execution_count": null,
      "outputs": [
        {
          "metadata": {
            "tags": null
          },
          "name": "stdout",
          "output_type": "stream",
          "text": [
            "Welcome to Rock-Paper-Scissors!\n",
            "Computer chose: scissors\n",
            "Computer wins this round!\n",
            "Computer chose: scissors\n",
            "You win this round!\n",
            "Computer chose: scissors\n",
            "It's a tie!\n"
          ]
        }
      ]
    },
    {
      "cell_type": "code",
      "source": [
        "# Assigment 7 (Professor's version)\n",
        "\n",
        "\n",
        "while True:\n",
        "play = input('Do you want to play?')\n",
        "  if play == 'no':\n",
        "    break\n",
        "  #Rock, Paper, Scissors here..."
      ],
      "metadata": {
        "id": "jny_PainqFx7"
      },
      "execution_count": null,
      "outputs": []
    },
    {
      "cell_type": "code",
      "source": [
        "# Assignment 8\n",
        "\n",
        "Products = {\n",
        "    'P-01': 9.95,\n",
        "    'P-02': 10.5\n",
        "}\n",
        "\n",
        "id = input('Enter product ID:')\n",
        "\n",
        "if id in Products:\n",
        "  print(f'Product ID: {id}, Price: {Products[id]}$')\n",
        "else:\n",
        "  print(f'Product ID {id} not found')"
      ],
      "metadata": {
        "colab": {
          "base_uri": "https://localhost:8080/"
        },
        "id": "lZzOItrG5-pH",
        "outputId": "8acc24ef-ed51-413e-c3b6-39659a66eb8e"
      },
      "execution_count": 4,
      "outputs": [
        {
          "output_type": "stream",
          "name": "stdout",
          "text": [
            "Enter product ID:P-01\n",
            "Product ID: P-01, Price: 9.95$\n"
          ]
        }
      ]
    },
    {
      "cell_type": "code",
      "source": [
        "# Assignment 9\n",
        "\n",
        "names = {}\n",
        "\n",
        "for i in range(5):\n",
        "  name = input('Enter a name:')\n",
        "\n",
        "  if name in names:\n",
        "    names[name] = names[name]+ 1 # names[name]+= 1\n",
        "  else:\n",
        "    names[name]=1\n",
        "\n",
        "  print(names)\n"
      ],
      "metadata": {
        "colab": {
          "base_uri": "https://localhost:8080/"
        },
        "id": "IYAF39dq_NOy",
        "outputId": "1463aa71-4c55-454f-872e-112b4040fc27"
      },
      "execution_count": null,
      "outputs": [
        {
          "output_type": "stream",
          "name": "stdout",
          "text": [
            "Enter a name:cora\n",
            "{'cora': 1}\n",
            "Enter a name:tod\n",
            "{'cora': 1, 'tod': 1}\n",
            "Enter a name:bob\n",
            "{'cora': 1, 'tod': 1, 'bob': 1}\n",
            "Enter a name:cora\n",
            "{'cora': 2, 'tod': 1, 'bob': 1}\n"
          ]
        }
      ]
    }
  ]
}